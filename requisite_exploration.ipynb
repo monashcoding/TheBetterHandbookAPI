{
 "cells": [
  {
   "cell_type": "markdown",
   "metadata": {},
   "source": [
    "## Monash Handbook and Prequisites Documentation Project\n",
    "\n",
    "\n"
   ]
  },
  {
   "cell_type": "markdown",
   "metadata": {},
   "source": [
    "### Determining prerequisites\n",
    "\n",
    "I've written a script to scrape prerequisites from `https://mscv.apps.monash.edu` which validates a course map. Since it gives us prerequisites if we're missing them, we can simply submit up to 125 of those requests in a go. That being said, \n",
    "we still need a way to determine corequisites and prohibitions:\n",
    "- As far as prohibitions are concerned, we can scrape from the handbook, then do a simple [A-Z]^3[0-9]^4 regex check on the prohibitions section. The API will return all the prohibited units.\n",
    "- Corequisites are more tricky, however we should be able to make simplifications to our process. For instance, we can regex check the coreq section and then not include them on second pass for units that have a corequisite.\n",
    "\n",
    "We now explore the data source. It takes 13.29 seconds on my PC to run the script below, retrieving deps for 5200 units."
   ]
  },
  {
   "cell_type": "code",
   "execution_count": 2,
   "metadata": {},
   "outputs": [
    {
     "name": "stdout",
     "output_type": "stream",
     "text": [
      "12.097641468048096\n"
     ]
    }
   ],
   "source": [
    "!python src/retrieve_requisites.py"
   ]
  },
  {
   "cell_type": "markdown",
   "metadata": {},
   "source": [
    "Yields a file named `unit_reqs_clean.json`. I've preprocessed and removed a fair bit of the data the server sends as it's meaningless, however we still need to inspect the data."
   ]
  },
  {
   "cell_type": "code",
   "execution_count": 1,
   "metadata": {},
   "outputs": [],
   "source": [
    "import json"
   ]
  },
  {
   "cell_type": "code",
   "execution_count": 2,
   "metadata": {},
   "outputs": [],
   "source": [
    "with open(\"unit_reqs_clean.json\", \"r\") as file:\n",
    "    unit_reqs = json.load(file)"
   ]
  },
  {
   "cell_type": "markdown",
   "metadata": {},
   "source": [
    "For any given unit, it can have a list of prerequisites, corequisites, prohibitions and any other requirements. There are 8 different messages that you may get for unit enrollment:"
   ]
  },
  {
   "cell_type": "code",
   "execution_count": 3,
   "metadata": {},
   "outputs": [
    {
     "name": "stdout",
     "output_type": "stream",
     "text": [
      "Missing corequisites\n",
      "Have not enrolled in a unit\n",
      "Have not passed enough units\n",
      "Not enough passed credit points\n",
      "Not enough enrolled credit points\n",
      "Permission is required for this unit\n",
      "Have not completed enough units\n",
      "Prohibited unit\n"
     ]
    }
   ],
   "source": [
    "unique_messages = set([item['title'] for sublist in unit_reqs.values() for item in sublist])\n",
    "for msg in unique_messages:\n",
    "    print(msg)"
   ]
  },
  {
   "cell_type": "markdown",
   "metadata": {},
   "source": [
    "So let's go through them:\n",
    "\n",
    "- Prohibited unit: You've enrolled/completed in a unit that prevents you from taking the current unit. For example, MTH1030 and ENG1005 both prohibit each other. A thing to note is that you will be given the names of all the prohibited units with that, e.g enrolling in ENG1005 and MTH1030 will also tell you MTH1035 is prohibited\n",
    "\n",
    "- Have not enrolled in a unit: This one is unusual, as it only appears for 12 units. It may say to enrol in a list of units, however it really means to have done it as a prerequisite. EAE2522 is one such example. It has a different format to the below formats.\n",
    "\n",
    "- Have not completed enough units: Again, this only appears for 3 units, all of which have the prefix APG. This seems to just be a completion requirement.\n",
    "\n",
    "- Have not passed enough units: This is the normal message if you lack the prerequisites for a unit. Appears in most places.\n",
    "\n",
    "- Not enough passed credit points: Some units simply require `x` credit points before you can enrol in them. Some mandate `y` credit points from faculty `z`. This appears less often but there are 360 occurences.\n",
    "\n",
    "- Not enough enrolled credit points: Only appears once, but seems to be similar to the above, EDF5019\n",
    "\n",
    "- Missing corequisites: Corequisites are a special sort of prerequisite that can be taken either before you do a unit, or concurrently with the unit. For instance, ENG1014 has a corequisite for ENG1005.\n",
    "\n",
    "- Permission is required for this unit: You need to contact someone in order to enrol in this unit. Fairly standard."
   ]
  },
  {
   "cell_type": "markdown",
   "metadata": {},
   "source": [
    "We may inspect the unique requirements, they need to be processed and the number along with the units are to be returned."
   ]
  },
  {
   "cell_type": "code",
   "execution_count": 12,
   "metadata": {},
   "outputs": [
    {
     "name": "stdout",
     "output_type": "stream",
     "text": [
      "Please enrol in 1 of\n",
      "Please enrol in 10 o\n",
      "Please enrol in 11 o\n",
      "Please enrol in 12 o\n",
      "Please enrol in 2 of\n",
      "Please enrol in 3 of\n",
      "Please enrol in 4 of\n",
      "Please enrol in 5 of\n",
      "Please enrol in 6 of\n",
      "Please enrol in 7 of\n",
      "Please enrol in 8 of\n",
      "Please enrol in 9 of\n",
      "Please enrol in AMU4\n",
      "Please enrol in APG5\n",
      "Please enrol in CDS2\n",
      "Please enrol in EAE1\n",
      "Please enrol in EAE2\n",
      "Please enrol in FIT4\n",
      "Please enrol in OHS1\n",
      "Please enrol in PSY2\n",
      "Please enrol in SDN2\n",
      "You have already com\n",
      "You have already enr\n",
      "You must enrol in 72\n",
      "You must pass 12 mor\n",
      "You must pass 120 mo\n",
      "You must pass 144 mo\n",
      "You must pass 18 mor\n",
      "You must pass 2 more\n",
      "You must pass 24 mor\n",
      "You must pass 30 mor\n",
      "You must pass 36 mor\n",
      "You must pass 42 mor\n",
      "You must pass 48 mor\n",
      "You must pass 6 more\n",
      "You must pass 60 mor\n",
      "You must pass 72 mor\n",
      "You must pass 84 mor\n",
      "You must pass 90 mor\n",
      "You must pass 96 mor\n",
      "You will need permis\n"
     ]
    }
   ],
   "source": [
    "unique_requirements =  sorted(set([item['description'][0:20] for sublist in unit_reqs.values() for item in sublist]))\n",
    "\n",
    "for requirement in unique_requirements:\n",
    "    print(requirement)"
   ]
  },
  {
   "cell_type": "markdown",
   "metadata": {},
   "source": [
    "The goal is to then extract all 3 categories and then place it into a prerequisites, corequisites and prohibitions data structure. Below is a prototype for processing all $8$ rules along with a potential data type:\n"
   ]
  },
  {
   "cell_type": "code",
   "execution_count": null,
   "metadata": {},
   "outputs": [],
   "source": [
    "class Requisites:\n",
    "\n",
    "    prerequisites: list[dict[str]]  # [{'NumReq':int, units:list[str]}, ...]\n",
    "    permissionRequired: bool \n",
    "    prohibitions: list[str] # [MTH1020, PHS1030...]\n",
    "    corequisites: list[str] # Same as above\n",
    "    creditPoints: int # 0 by default, 24 for MTH2132 and other special units\n",
    "    "
   ]
  },
  {
   "cell_type": "code",
   "execution_count": null,
   "metadata": {},
   "outputs": [],
   "source": [
    "unit_requisites = {unit:[] for unit in unit_reqs}"
   ]
  },
  {
   "cell_type": "code",
   "execution_count": 80,
   "metadata": {},
   "outputs": [],
   "source": [
    "for unit in unit_requisites:\n",
    "\n",
    "    for unit_rule in unit_reqs[unit]: # Go over each rule\n",
    "        match unit_rule['title']:\n",
    "            case \"Prohibited unit\":\n",
    "                pass\n",
    "            case \"Have not enrolled in a unit\":\n",
    "                pass\n",
    "            case \"Have not completed enough units\":\n",
    "                pass\n",
    "            case \"Have not passed enough units\": # only implement this for now\n",
    "                _, units = unit_rule['description'].split(\":\")\n",
    "                unit_requisites[unit].extend(units.strip().replace(\" or\",\",\").split(\", \"))\n",
    "            case \"Not enough passed credit points\":\n",
    "                pass\n",
    "            case \"Not enough enrolled credit points\":\n",
    "                pass \n",
    "            case \"Missing corequisites\":\n",
    "                pass\n",
    "            case \"Permission is required for this unit\":\n",
    "                pass"
   ]
  }
 ],
 "metadata": {
  "kernelspec": {
   "display_name": "Python 3.10.1 64-bit",
   "language": "python",
   "name": "python3"
  },
  "language_info": {
   "codemirror_mode": {
    "name": "ipython",
    "version": 3
   },
   "file_extension": ".py",
   "mimetype": "text/x-python",
   "name": "python",
   "nbconvert_exporter": "python",
   "pygments_lexer": "ipython3",
   "version": "3.10.1"
  },
  "orig_nbformat": 4,
  "vscode": {
   "interpreter": {
    "hash": "2992be79d3e0aec33be5181fec54a44a4df1a289abb84f75bd9ff6949ab975c1"
   }
  }
 },
 "nbformat": 4,
 "nbformat_minor": 2
}
