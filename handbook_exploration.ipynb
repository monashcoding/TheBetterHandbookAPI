{
 "cells": [
  {
   "cell_type": "markdown",
   "metadata": {},
   "source": [
    "## Monash Handbook and Prequisites Documentation Project\n",
    "\n",
    "\n",
    "### Retrieving handbook information\n"
   ]
  },
  {
   "cell_type": "code",
   "execution_count": 1,
   "metadata": {},
   "outputs": [],
   "source": [
    "from src.api.handbook_api import UnitAPI\n",
    "import json"
   ]
  },
  {
   "cell_type": "code",
   "execution_count": 2,
   "metadata": {},
   "outputs": [],
   "source": [
    "handbook_api = UnitAPI()"
   ]
  },
  {
   "cell_type": "code",
   "execution_count": 3,
   "metadata": {},
   "outputs": [
    {
     "data": {
      "text/plain": [
       "{'unit_name': 'Accounting in business',\n",
       " 'unit_code': 'ACB1020',\n",
       " 'credit_points': '6',\n",
       " 'school': 'Faculty of Business and Economics',\n",
       " 'workload': '<p>Minimum total expected workload to achieve the learning outcomes for this unit is 144 hours per semester typically comprising a mixture of scheduled learning activities and independent study. Independent study may include associated readings, assessment and preparation for scheduled activities. The unit requires on average three/four hours of scheduled activities per week. Scheduled activities may include a combination of teacher directed learning, peer directed learning and online engagement.</p>',\n",
       " 'synopsis': '<p>This unit introduces basic accounting concepts to non-accountants. The information requirements of two main groups of information users are examined - external users such as current and potential investors and internal users such as managers. This unit provides an introduction to the structure, meaning, analysis and interpretation of financial statements, in addition to exploring financial issues confronting managers, such as cost and performance measurement and budgeting.</p>',\n",
       " 'learning_outcomes': [(1,\n",
       "   '<p>demonstrate an understanding of various forms of business organisations</p>'),\n",
       "  (2,\n",
       "   '<p>apply financial and management accounting principles in the preparation of financial statements</p>'),\n",
       "  (3,\n",
       "   '<p>measure and interpret information relating to financial performance, financial position, liquidity and risk indicators of businesses</p>'),\n",
       "  (4,\n",
       "   '<p>measure and interpret financial and non-financial information for managers to use in planning, decision making and control</p>'),\n",
       "  (5,\n",
       "   '<p>develop the ability to work effectively in a team and/or independently and demonstrate the development of judgement, and skills in problem solving, critical thinking and analysis.</p>')],\n",
       " 'requisites': [{'academic_item_code': 'ACB1020',\n",
       "   'active': 'true',\n",
       "   'requisite_cl_id': '4d123417db1a0510101196cbd396193a',\n",
       "   'description': '',\n",
       "   'requisite_type': {'label': 'Prohibition', 'value': 'prohibitions'},\n",
       "   'cl_id': {'value': 'ACB1020',\n",
       "    'cl_id': '01123417db1a0510101196cbd3961934',\n",
       "    'key': 'code'},\n",
       "   'academic_item_version_number': '2022.08',\n",
       "   'order': '1',\n",
       "   'start_date': '',\n",
       "   'end_date': '',\n",
       "   'container': [{'cl_id': '45123417db1a0510101196cbd396194c',\n",
       "     'parent_container_table': 'x_f5sl_cl_requisite',\n",
       "     'parent_record': {'value': 'Relationship Builder: ACB1020',\n",
       "      'cl_id': '4d123417db1a0510101196cbd396193a',\n",
       "      'key': 'academic_item',\n",
       "      'type': 'x_f5sl_cl_requisite'},\n",
       "     'title': 'Container 1',\n",
       "     'parent_connector': {'label': 'OR', 'value': 'OR'},\n",
       "     'containers': [],\n",
       "     'relationships': [{'academic_item': {'value': 'Unit: ACC1200',\n",
       "        'cl_id': '43c43c02dba637001092bd16f496197b',\n",
       "        'key': 'code',\n",
       "        'type': 'x_f5sl_cl_subjects'},\n",
       "       'parent_record': {'value': 'Container 1',\n",
       "        'cl_id': '45123417db1a0510101196cbd396194c',\n",
       "        'key': 'title'},\n",
       "       'order': '8',\n",
       "       'cl_id': '43c43c02dba637001092bd16f496197b',\n",
       "       'academic_item_type': {'label': 'Unit', 'value': 'subject'},\n",
       "       'abbr_name': 'ACC FOR MNGRS',\n",
       "       'academic_item_version_name': '2020.01',\n",
       "       'academic_item_credit_points': '6',\n",
       "       'abbreviated_name_and_major': None,\n",
       "       'academic_item_name': 'Accounting for managers',\n",
       "       'academic_item_code': 'ACC1200',\n",
       "       'academic_item_url': '/2020/units/ACC1200'},\n",
       "      {'academic_item': {'value': 'Unit: ACW1120',\n",
       "        'cl_id': '25d562f3dbaef70082e291f38a961915',\n",
       "        'key': 'code',\n",
       "        'type': 'x_f5sl_cl_subjects'},\n",
       "       'parent_record': {'value': 'Container 1',\n",
       "        'cl_id': '45123417db1a0510101196cbd396194c',\n",
       "        'key': 'title'},\n",
       "       'order': '12',\n",
       "       'cl_id': '25d562f3dbaef70082e291f38a961915',\n",
       "       'academic_item_type': {'label': 'Unit', 'value': 'subject'},\n",
       "       'abbr_name': 'FIN ACC 1',\n",
       "       'academic_item_version_name': '2020.01',\n",
       "       'academic_item_credit_points': '6',\n",
       "       'abbreviated_name_and_major': None,\n",
       "       'academic_item_name': 'Financial accounting 1',\n",
       "       'academic_item_code': 'ACW1120',\n",
       "       'academic_item_url': '/2020/units/ACW1120'},\n",
       "      {'academic_item': {'value': 'Unit: ACB1120',\n",
       "        'cl_id': 'd23d85d9db66b30082e291f38a9619eb',\n",
       "        'key': 'code',\n",
       "        'type': 'x_f5sl_cl_subjects'},\n",
       "       'parent_record': {'value': 'Container 1',\n",
       "        'cl_id': '45123417db1a0510101196cbd396194c',\n",
       "        'key': 'title'},\n",
       "       'order': '3',\n",
       "       'cl_id': 'd23d85d9db66b30082e291f38a9619eb',\n",
       "       'academic_item_type': {'label': 'Unit', 'value': 'subject'},\n",
       "       'abbr_name': 'INTRO FIN ACC',\n",
       "       'academic_item_version_name': '2020.01',\n",
       "       'academic_item_credit_points': '6',\n",
       "       'abbreviated_name_and_major': None,\n",
       "       'academic_item_name': 'Financial accounting 1',\n",
       "       'academic_item_code': 'ACB1120',\n",
       "       'academic_item_url': '/2020/units/ACB1120'},\n",
       "      {'academic_item': {'value': 'Unit: ACF1100',\n",
       "        'cl_id': '84c83716db48441082e291f38a961950',\n",
       "        'key': 'code',\n",
       "        'type': 'x_f5sl_cl_subjects'},\n",
       "       'parent_record': {'value': 'Container 1',\n",
       "        'cl_id': '45123417db1a0510101196cbd396194c',\n",
       "        'key': 'title'},\n",
       "       'order': '9',\n",
       "       'cl_id': '84c83716db48441082e291f38a961950',\n",
       "       'academic_item_type': {'label': 'Unit', 'value': 'subject'},\n",
       "       'abbr_name': 'INTRO FIN ACC',\n",
       "       'academic_item_version_name': '2020.02',\n",
       "       'academic_item_credit_points': '6',\n",
       "       'abbreviated_name_and_major': None,\n",
       "       'academic_item_name': 'Introduction to financial accounting',\n",
       "       'academic_item_code': 'ACF1100',\n",
       "       'academic_item_url': '/2020/units/ACF1100'},\n",
       "      {'academic_item': {'value': 'Unit: ACX1100',\n",
       "        'cl_id': 'ef218706db0b6094101196cbd396199c',\n",
       "        'key': 'code',\n",
       "        'type': 'x_f5sl_cl_subjects'},\n",
       "       'parent_record': {'value': 'Container 1',\n",
       "        'cl_id': '45123417db1a0510101196cbd396194c',\n",
       "        'key': 'title'},\n",
       "       'order': '13',\n",
       "       'cl_id': 'ef218706db0b6094101196cbd396199c',\n",
       "       'academic_item_type': {'label': 'Unit', 'value': 'subject'},\n",
       "       'abbr_name': 'INTRO FIN ACC',\n",
       "       'academic_item_version_name': '2021.01',\n",
       "       'academic_item_credit_points': '6',\n",
       "       'abbreviated_name_and_major': None,\n",
       "       'academic_item_name': 'Introduction to financial accounting',\n",
       "       'academic_item_code': 'ACX1100',\n",
       "       'academic_item_url': '/2021/units/ACX1100'},\n",
       "      {'academic_item': {'value': 'Unit: ACF1200',\n",
       "        'cl_id': '9bb75d7ddb5e3b409ef3147a3a96192b',\n",
       "        'key': 'code',\n",
       "        'type': 'x_f5sl_cl_subjects'},\n",
       "       'parent_record': {'value': 'Container 1',\n",
       "        'cl_id': '45123417db1a0510101196cbd396194c',\n",
       "        'key': 'title'},\n",
       "       'order': '10',\n",
       "       'cl_id': '9bb75d7ddb5e3b409ef3147a3a96192b',\n",
       "       'academic_item_type': {'label': 'Unit', 'value': 'subject'},\n",
       "       'abbr_name': 'ACC FOR MNGRS',\n",
       "       'academic_item_version_name': '2020.01',\n",
       "       'academic_item_credit_points': '6',\n",
       "       'abbreviated_name_and_major': None,\n",
       "       'academic_item_name': 'Accounting for managers',\n",
       "       'academic_item_code': 'ACF1200',\n",
       "       'academic_item_url': '/2020/units/ACF1200'},\n",
       "      {'academic_item': {'value': 'Unit: ACX1200',\n",
       "        'cl_id': '74c001dbdb1b20502bdd077cd396191d',\n",
       "        'key': 'code',\n",
       "        'type': 'x_f5sl_cl_subjects'},\n",
       "       'parent_record': {'value': 'Container 1',\n",
       "        'cl_id': '45123417db1a0510101196cbd396194c',\n",
       "        'key': 'title'},\n",
       "       'order': '14',\n",
       "       'cl_id': '74c001dbdb1b20502bdd077cd396191d',\n",
       "       'academic_item_type': {'label': 'Unit', 'value': 'subject'},\n",
       "       'abbr_name': 'ACC FOR MNGRS',\n",
       "       'academic_item_version_name': '2021.02',\n",
       "       'academic_item_credit_points': '6',\n",
       "       'abbreviated_name_and_major': None,\n",
       "       'academic_item_name': 'Accounting for managers',\n",
       "       'academic_item_code': 'ACX1200',\n",
       "       'academic_item_url': '/2021/units/ACX1200'},\n",
       "      {'academic_item': {'value': 'Unit: ACC1100',\n",
       "        'cl_id': '4da1b937db1377001092bd16f4961902',\n",
       "        'key': 'code',\n",
       "        'type': 'x_f5sl_cl_subjects'},\n",
       "       'parent_record': {'value': 'Container 1',\n",
       "        'cl_id': '45123417db1a0510101196cbd396194c',\n",
       "        'key': 'title'},\n",
       "       'order': '7',\n",
       "       'cl_id': '4da1b937db1377001092bd16f4961902',\n",
       "       'academic_item_type': {'label': 'Unit', 'value': 'subject'},\n",
       "       'abbr_name': 'INTRO TO FIN ACC',\n",
       "       'academic_item_version_name': '2020.02',\n",
       "       'academic_item_credit_points': '6',\n",
       "       'abbreviated_name_and_major': None,\n",
       "       'academic_item_name': 'Introduction to financial accounting',\n",
       "       'academic_item_code': 'ACC1100',\n",
       "       'academic_item_url': '/2020/units/ACC1100'},\n",
       "      {'academic_item': {'value': 'Unit: ACW1020',\n",
       "        'cl_id': 'c7aede7fdb6ef70082e291f38a9619aa',\n",
       "        'key': 'code',\n",
       "        'type': 'x_f5sl_cl_subjects'},\n",
       "       'parent_record': {'value': 'Container 1',\n",
       "        'cl_id': '45123417db1a0510101196cbd396194c',\n",
       "        'key': 'title'},\n",
       "       'order': '11',\n",
       "       'cl_id': 'c7aede7fdb6ef70082e291f38a9619aa',\n",
       "       'academic_item_type': {'label': 'Unit', 'value': 'subject'},\n",
       "       'abbr_name': 'ACC IN BUSINESS',\n",
       "       'academic_item_version_name': '2020.01',\n",
       "       'academic_item_credit_points': '6',\n",
       "       'abbreviated_name_and_major': None,\n",
       "       'academic_item_name': 'Accounting in business',\n",
       "       'academic_item_code': 'ACW1020',\n",
       "       'academic_item_url': '/2020/units/ACW1020'}]}]}],\n",
       " 'enrolment_rules_group': [{'rule_group': 'Enrolment Rule',\n",
       "   'rules': [{'description': '<p>To be successful in this unit, background knowledge and application of maths is required at the equivalent of VCE Year 11 level.\\xa0 You may have satisfied this by completing relevant prerequisite unit/s, or you have covered relevant topics in your final years of secondary study.\\xa0 You should <a href=\"https://www.monash.edu/business/current-students/course-advice-and-planning\" target=\"_blank\">self-assess</a> your maths competency prior to enrolling in this unit.</p>',\n",
       "     'academic_item': {'value': 'ACB1020',\n",
       "      'cl_id': '01123417db1a0510101196cbd3961934',\n",
       "      'key': 'code'},\n",
       "     'type': {'label': 'Enrolment Rule', 'value': 'info'},\n",
       "     'cl_id': '45123417db1a0510101196cbd3961958',\n",
       "     'links': []}]}],\n",
       " 'location': ['Peninsula'],\n",
       " 'teaching_periods': ['First semester'],\n",
       " 'academic_contact_roles': [{'role': 'Chief Examiner(s)',\n",
       "   'contacts': [{'contact_name': 'Tao Tao',\n",
       "     'contact_role': 'Chief Examiner',\n",
       "     'display_details': 'Ms Tao Tao '}]}]}"
      ]
     },
     "execution_count": 3,
     "metadata": {},
     "output_type": "execute_result"
    }
   ],
   "source": [
    "handbook_api.retrieve_search()[0]"
   ]
  },
  {
   "cell_type": "code",
   "execution_count": 4,
   "metadata": {},
   "outputs": [],
   "source": [
    "handbook = handbook_api.retrieve_search(0,6000,2022)"
   ]
  },
  {
   "cell_type": "code",
   "execution_count": 5,
   "metadata": {},
   "outputs": [
    {
     "data": {
      "text/plain": [
       "5258"
      ]
     },
     "execution_count": 5,
     "metadata": {},
     "output_type": "execute_result"
    }
   ],
   "source": [
    "len(handbook)"
   ]
  },
  {
   "cell_type": "code",
   "execution_count": 6,
   "metadata": {},
   "outputs": [],
   "source": [
    "handbook_dict = {item[\"unit_code\"]:item for item in handbook}"
   ]
  },
  {
   "cell_type": "code",
   "execution_count": 14,
   "metadata": {},
   "outputs": [
    {
     "data": {
      "text/plain": [
       "'MTH3175'"
      ]
     },
     "execution_count": 14,
     "metadata": {},
     "output_type": "execute_result"
    }
   ],
   "source": [
    "handbook_dict['MTH3170']['requisites'][0][\"container\"][0][\"relationships\"][0][\"academic_item_code\"]"
   ]
  },
  {
   "cell_type": "code",
   "execution_count": null,
   "metadata": {},
   "outputs": [],
   "source": [
    "handbook_dict{}"
   ]
  },
  {
   "cell_type": "markdown",
   "metadata": {},
   "source": []
  },
  {
   "cell_type": "code",
   "execution_count": 19,
   "metadata": {},
   "outputs": [],
   "source": [
    "from regex import findall"
   ]
  },
  {
   "cell_type": "code",
   "execution_count": 21,
   "metadata": {},
   "outputs": [
    {
     "data": {
      "text/plain": [
       "{'ENG2005', 'ENG2091', 'MTH2010'}"
      ]
     },
     "execution_count": 21,
     "metadata": {},
     "output_type": "execute_result"
    }
   ],
   "source": [
    "set(findall(r'[A-Z]{3}[0-9]{4}',handbook_dict['MTH2015']['enrolment_rules_group'][0]['rules'][1][\"description\"]))"
   ]
  },
  {
   "cell_type": "code",
   "execution_count": 28,
   "metadata": {},
   "outputs": [
    {
     "data": {
      "text/plain": [
       "'MTH2040'"
      ]
     },
     "execution_count": 28,
     "metadata": {},
     "output_type": "execute_result"
    }
   ],
   "source": [
    "handbook_dict['MTH2032']['requisites'][2][\"container\"][0][\"relationships\"][0][\"academic_item_code\"]"
   ]
  },
  {
   "cell_type": "code",
   "execution_count": 18,
   "metadata": {},
   "outputs": [
    {
     "data": {
      "text/plain": [
       "'<p><strong>PROHIBITION:\\xa0</strong><a href=\"https://handbook.monash.edu/current/units/ENG2005\">ENG2005</a>, ENG2091,\\xa0<a href=\"https://handbook.monash.edu/current/units/MTH2010\">MTH2010</a></p>'"
      ]
     },
     "execution_count": 18,
     "metadata": {},
     "output_type": "execute_result"
    }
   ],
   "source": [
    "handbook_dict['MTH2015']['enrolment_rules_group'][0]['rules'][1][\"description\"]"
   ]
  },
  {
   "cell_type": "code",
   "execution_count": 21,
   "metadata": {},
   "outputs": [],
   "source": [
    "with open('handbook_data.json','w') as f:\n",
    "    json.dump(handbook_dict, f)"
   ]
  }
 ],
 "metadata": {
  "kernelspec": {
   "display_name": "Python 3.10.1 64-bit",
   "language": "python",
   "name": "python3"
  },
  "language_info": {
   "codemirror_mode": {
    "name": "ipython",
    "version": 3
   },
   "file_extension": ".py",
   "mimetype": "text/x-python",
   "name": "python",
   "nbconvert_exporter": "python",
   "pygments_lexer": "ipython3",
   "version": "3.10.1"
  },
  "orig_nbformat": 4,
  "vscode": {
   "interpreter": {
    "hash": "2992be79d3e0aec33be5181fec54a44a4df1a289abb84f75bd9ff6949ab975c1"
   }
  }
 },
 "nbformat": 4,
 "nbformat_minor": 2
}
